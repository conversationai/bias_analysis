{
  "nbformat": 4,
  "nbformat_minor": 0,
  "metadata": {
    "colab": {
      "name": "FAT* Tutorial: Measuring Unintended Bias in Text Classification Models with Real Data",
      "version": "0.3.2",
      "provenance": [],
      "collapsed_sections": [
        "Dk7Tw_JRTPpG",
        "0gV3zRBcleCV",
        "8bArd_iUqujQ",
        "XWDNrP0tX09f"
      ]
    },
    "kernelspec": {
      "name": "python3",
      "display_name": "Python 3"
    },
    "accelerator": "GPU"
  },
  "cells": [
    {
      "metadata": {
        "id": "9B7PdsrvW__k",
        "colab_type": "text"
      },
      "cell_type": "markdown",
      "source": [
        "# Hands-on Tutorial: Measuring Unintended Bias in Text Classification Models with Real Data\n",
        "\n",
        "Copyright 2019 Google LLC.\n",
        "SPDX-License-Identifier: Apache-2.0\n",
        "\n",
        "Unintended bias is a major challenge for machine learning systems. In this tutorial, we will demonstrate a way to measure unintended bias in a text classification model using a large set of online comments which have been labeled for toxicity and identity references. We will provide participants with starter code that builds and evaluates a machine learning model, written using open source Python libraries. Using this code they can explore different ways to measure and visualize model bias. At the end of this tutorial, participants should walk away with new techniques for bias measurement.\n",
        "\n",
        "##WARNING: Some text examples in this notebook include profanity, offensive statments, and offensive statments involving identity terms. Please feel free to avoid using this notebook.\n",
        "\n",
        "To get started, please click \"CONNECT\" in the top right of the screen.  You can use `SHIFT + ↲` to run cells in this notebook.  Please be sure to run each cell before moving on to the next cell in the notebook."
      ]
    },
    {
      "metadata": {
        "id": "4bSQf93oVo7j",
        "colab_type": "code",
        "colab": {}
      },
      "cell_type": "code",
      "source": [
        "from __future__ import absolute_import\n",
        "from __future__ import division\n",
        "from __future__ import print_function\n",
        "\n",
        "import datetime\n",
        "import os\n",
        "import pandas as pd\n",
        "import numpy as np\n",
        "import pkg_resources\n",
        "import matplotlib.pyplot as plt\n",
        "import seaborn as sns\n",
        "import time\n",
        "import scipy.stats as stats\n",
        "\n",
        "from sklearn import metrics\n",
        "\n",
        "from keras.preprocessing.text import Tokenizer\n",
        "from keras.utils import to_categorical\n",
        "from keras.preprocessing.sequence import pad_sequences\n",
        "from keras.layers import Embedding\n",
        "from keras.layers import Input\n",
        "from keras.layers import Conv1D\n",
        "from keras.layers import MaxPooling1D\n",
        "from keras.layers import Flatten\n",
        "from keras.layers import Dropout\n",
        "from keras.layers import Dense\n",
        "from keras.optimizers import RMSprop\n",
        "from keras.models import Model\n",
        "from keras.models import load_model\n",
        "\n",
        "%matplotlib inline\n",
        "\n",
        "# autoreload makes it easier to interactively work on code in imported libraries\n",
        "%load_ext autoreload\n",
        "%autoreload 2\n",
        "\n",
        "# Set pandas display options so we can read more of the comment text.\n",
        "pd.set_option('max_colwidth', 300)\n",
        "\n",
        "# Download and unzip files used in this colab\n",
        "!curl -O -J -L https://storage.googleapis.com/civil_comments/fat_star_tutorial/fat-star.zip\n",
        "!unzip -o fat-star.zip\n",
        "\n",
        "# Seed for Pandas sampling, to get consistent sampling results\n",
        "RANDOM_STATE = 123456789"
      ],
      "execution_count": 0,
      "outputs": []
    },
    {
      "metadata": {
        "id": "kx1InEdFXEc4",
        "colab_type": "text"
      },
      "cell_type": "markdown",
      "source": [
        "## Install library and data dependencies\n",
        "\n",
        "---\n",
        "\n"
      ]
    },
    {
      "metadata": {
        "id": "2js0XyGsXPCo",
        "colab_type": "text"
      },
      "cell_type": "markdown",
      "source": [
        "## Load and pre-process data sets"
      ]
    },
    {
      "metadata": {
        "id": "0bmiyJR60gDP",
        "colab_type": "code",
        "colab": {}
      },
      "cell_type": "code",
      "source": [
        "# Read the initial train, test, and validate data into Pandas dataframes.\n",
        "train_df_float = pd.read_csv('public_train.csv')\n",
        "test_df_float = pd.read_csv('public_test.csv')\n",
        "validate_df_float = pd.read_csv('public_validate.csv')\n",
        "\n",
        "print('training data has %d rows' % len(train_df_float))\n",
        "print('validation data has %d rows' % len(validate_df_float))\n",
        "print('test data has %d rows' % len(test_df_float))\n",
        "print('training data columns are: %s' % train_df_float.columns)"
      ],
      "execution_count": 0,
      "outputs": []
    },
    {
      "metadata": {
        "id": "K9vm2EvKXZDn",
        "colab_type": "text"
      },
      "cell_type": "markdown",
      "source": [
        "Let's examine some rows in these datasets."
      ]
    },
    {
      "metadata": {
        "id": "aUAHyQ-aXjA-",
        "colab_type": "code",
        "colab": {}
      },
      "cell_type": "code",
      "source": [
        "train_df_float.head()"
      ],
      "execution_count": 0,
      "outputs": []
    },
    {
      "metadata": {
        "id": "Fw889hkUGEkI",
        "colab_type": "text"
      },
      "cell_type": "markdown",
      "source": [
        "# Understanding the data\n",
        "\n",
        "There are many column in the data set, however some columns you may want to pay closer attention to are:\n",
        "* comment_text: this is the the text which we will pass into our model.\n",
        "* toxicity: this is the percentage of raters who labeled this comment as being toxic.\n",
        "* identity columns, such as \"male\", \"female\", \"white\", \"black\", and others: there are the percentage of raters who labeled this comment as refering to a given identity.  Unlike comment_text and toxicity, these columns may be missing for many rows and will display as NaN initially.\n",
        "\n",
        "Let's now look at some unprocessed rows.  We will filter the output to only show the \"toxicity\", \"male\", and \"comment_text\" columns, however keep in mind that there are 24 total identity columns."
      ]
    },
    {
      "metadata": {
        "id": "fIniPQgVGEJ9",
        "colab_type": "code",
        "colab": {}
      },
      "cell_type": "code",
      "source": [
        "pd.concat([\n",
        "    # Select 3 rows where 100% of raters said it applied to the male identity.\n",
        "    train_df_float[['toxicity', 'male', 'comment_text']].query('male == 1').head(3),\n",
        "    # Select 3 rows where 50% of raters said it applied to the male identity.\n",
        "    train_df_float[['toxicity', 'male', 'comment_text']].query('male == 0.5').head(3),\n",
        "    # Select 3 rows where 0% of raters said it applied to the male identity.\n",
        "    train_df_float[['toxicity', 'male', 'comment_text']].query('male == 0.0').head(3),\n",
        "    # Select 3 rows that were not labeled for the male identity (have NaN values).\n",
        "    # See https://stackoverflow.com/questions/26535563 if you would like to\n",
        "    # understand this Pandas behavior.\n",
        "    train_df_float[['toxicity', 'male', 'comment_text']].query('male != male').head(3)])"
      ],
      "execution_count": 0,
      "outputs": []
    },
    {
      "metadata": {
        "id": "c0SpGASQXm7O",
        "colab_type": "text"
      },
      "cell_type": "markdown",
      "source": [
        "We will need to convert toxicity and identity columns to booleans, in order to work with our neural net and metrics calculcations.  For this tutorial, we will consider any value >= 0.5 as True (i.e. a comment should be considered toxic if 50% or more crowd raters labeled it as toxic).  Note that this code also converts missing identity fields to False."
      ]
    },
    {
      "metadata": {
        "id": "gf_Ra3fGVwK7",
        "colab_type": "code",
        "colab": {}
      },
      "cell_type": "code",
      "source": [
        "# List all identities\n",
        "identity_columns = [\n",
        "    'male', 'female', 'transgender', 'other_gender', 'heterosexual',\n",
        "    'homosexual_gay_or_lesbian', 'bisexual', 'other_sexual_orientation', 'christian',\n",
        "    'jewish', 'muslim', 'hindu', 'buddhist', 'atheist', 'other_religion', 'black',\n",
        "    'white', 'asian', 'latino', 'other_race_or_ethnicity',\n",
        "    'physical_disability', 'intellectual_or_learning_disability',\n",
        "    'psychiatric_or_mental_illness', 'other_disability']\n",
        "\n",
        "def convert_to_bool(df, col_name):\n",
        "  df[col_name] = np.where(df[col_name] >= 0.5, True, False)\n",
        "\n",
        "def convert_dataframe_to_bool(df):\n",
        "  bool_df = df.copy()\n",
        "  for col in ['toxicity'] + identity_columns:\n",
        "      convert_to_bool(bool_df, col)\n",
        "  return bool_df\n",
        "\n",
        "train_df = convert_dataframe_to_bool(train_df_float)\n",
        "validate_df = convert_dataframe_to_bool(validate_df_float)\n",
        "test_df = convert_dataframe_to_bool(test_df_float)\n",
        "    \n",
        "train_df[['toxicity', 'male', 'comment_text']].sample(5, random_state=RANDOM_STATE)"
      ],
      "execution_count": 0,
      "outputs": []
    },
    {
      "metadata": {
        "id": "n7z7uXEwTK65",
        "colab_type": "text"
      },
      "cell_type": "markdown",
      "source": [
        "#Exercise #1\n",
        "* Count the number of comments in the training set which are labeled as referring to the \"female\" group.\n",
        "* What percentage of comments which are labeled as referring to the \"female\" group are toxic?\n",
        "* How does this percentage compare to other identity groups in the training set?\n",
        "* How does this compare to the percentage of toxic comments in the entire training set?"
      ]
    },
    {
      "metadata": {
        "id": "LnRl75igTOy_",
        "colab_type": "code",
        "colab": {}
      },
      "cell_type": "code",
      "source": [
        "# Your code here\n",
        "#\n",
        "# HINT: you can query dataframes for identities using code like:\n",
        "#   train_df.query('black == True')\n",
        "# and \n",
        "#   train_df.query('toxicity == True')\n",
        "#\n",
        "# You can print the identity_columns variable to see the full list of identities\n",
        "# labeled by crowd raters.\n",
        "#\n",
        "# Pandas Dataframe documentation is available at https://pandas.pydata.org/pandas-docs/stable/api.html#dataframe"
      ],
      "execution_count": 0,
      "outputs": []
    },
    {
      "metadata": {
        "id": "Dk7Tw_JRTPpG",
        "colab_type": "text"
      },
      "cell_type": "markdown",
      "source": [
        "## Solution (click to expand)"
      ]
    },
    {
      "metadata": {
        "id": "xN_O7k1OTO1_",
        "colab_type": "code",
        "colab": {}
      },
      "cell_type": "code",
      "source": [
        "def print_count_and_percent_toxic(df, identity):\n",
        "  # Query all training comments where the identity column equals True.\n",
        "  identity_comments = train_df.query(identity + ' == True')\n",
        "\n",
        "  # Query which of those comments also have \"toxicity\" equals True\n",
        "  toxic_identity_comments = identity_comments.query('toxicity == True')\n",
        "  # Alternatively you could also write a query using & (and), e.g.:\n",
        "  # toxic_identity_comments = train_df.query(identity  + ' == True & toxicity == True')\n",
        "\n",
        "  # Print the results.\n",
        "  num_comments = len(identity_comments)\n",
        "  percent_toxic = len(toxic_identity_comments) / num_comments \n",
        "  print('%d comments refer to the %s identity, %.2f%% are toxic' % (\n",
        "    num_comments,\n",
        "    identity,\n",
        "    # multiply percent_toxic by 100 for easier reading.\n",
        "    100 * percent_toxic))\n",
        "\n",
        "# Print values for comments labeled as referring to the female identity\n",
        "print_count_and_percent_toxic(train_df, 'female')\n",
        "\n",
        "# Compare this with comments labeled as referring to the male identity\n",
        "print_count_and_percent_toxic(train_df, 'male')\n",
        "\n",
        "# Print the percent toxicity for the entire training set\n",
        "all_toxic_df = train_df.query('toxicity == True')\n",
        "print('%.2f%% of all comments are toxic' %\n",
        "  (100 * len(all_toxic_df) / len(train_df)))"
      ],
      "execution_count": 0,
      "outputs": []
    },
    {
      "metadata": {
        "id": "rt8ow-2WXqpG",
        "colab_type": "text"
      },
      "cell_type": "markdown",
      "source": [
        "## Define a text classification model\n",
        "\n",
        "This code creates and trains a convolutional neural net using the Keras framework.  This neural net accepts a text comment, encoded using GloVe embeddings, and outputs a probably that the comment is toxic.  Don't worry if you do not understand all of this code, as we will be treating this neural *net* as a black box later in the tutorial.\n",
        "\n",
        "Note that for this colab, we will be loading pretrained models from disk, rather than using this code to train a new model which would take over 30 minutes."
      ]
    },
    {
      "metadata": {
        "id": "NRJAO2YLlOku",
        "colab_type": "code",
        "colab": {}
      },
      "cell_type": "code",
      "source": [
        "MAX_NUM_WORDS = 10000\n",
        "TOXICITY_COLUMN = 'toxicity'\n",
        "TEXT_COLUMN = 'comment_text'\n",
        "\n",
        "# Create a text tokenizer.\n",
        "tokenizer = Tokenizer(num_words=MAX_NUM_WORDS)\n",
        "tokenizer.fit_on_texts(train_df[TEXT_COLUMN])\n",
        "\n",
        "# All comments must be truncated or padded to be the same length.\n",
        "MAX_SEQUENCE_LENGTH = 250\n",
        "def pad_text(texts, tokenizer):\n",
        "    return pad_sequences(tokenizer.texts_to_sequences(texts), maxlen=MAX_SEQUENCE_LENGTH)\n",
        "\n",
        "# Load the first model from disk.\n",
        "model = load_model('model_2_3_4.h5')"
      ],
      "execution_count": 0,
      "outputs": []
    },
    {
      "metadata": {
        "id": "0gV3zRBcleCV",
        "colab_type": "text"
      },
      "cell_type": "markdown",
      "source": [
        "### Optional: dive into model architecture\n",
        "\n",
        "Expand this code to see how our text classification model is defined, and optionally train your own model.  Warning: training a new model maybe take over 30 minutes."
      ]
    },
    {
      "metadata": {
        "id": "ak2l-frLWYjx",
        "colab_type": "code",
        "colab": {}
      },
      "cell_type": "code",
      "source": [
        "EMBEDDINGS_PATH = 'glove.6B.100d.txt'\n",
        "EMBEDDINGS_DIMENSION = 100\n",
        "DROPOUT_RATE = 0.3\n",
        "LEARNING_RATE = 0.00005\n",
        "NUM_EPOCHS = 10\n",
        "BATCH_SIZE = 128\n",
        "\n",
        "def train_model(train_df, validate_df, tokenizer):\n",
        "    # Prepare data\n",
        "    train_text = pad_text(train_df[TEXT_COLUMN], tokenizer)\n",
        "    train_labels = to_categorical(train_df[TOXICITY_COLUMN])\n",
        "    validate_text = pad_text(validate_df[TEXT_COLUMN], tokenizer)\n",
        "    validate_labels = to_categorical(validate_df[TOXICITY_COLUMN])\n",
        "\n",
        "    # Load embeddings\n",
        "    embeddings_index = {}\n",
        "    with open(EMBEDDINGS_PATH) as f:\n",
        "        for line in f:\n",
        "            values = line.split()\n",
        "            word = values[0]\n",
        "            coefs = np.asarray(values[1:], dtype='float32')\n",
        "            embeddings_index[word] = coefs\n",
        "\n",
        "    embedding_matrix = np.zeros((len(tokenizer.word_index) + 1,\n",
        "                                 EMBEDDINGS_DIMENSION))\n",
        "    num_words_in_embedding = 0\n",
        "    for word, i in tokenizer.word_index.items():\n",
        "        embedding_vector = embeddings_index.get(word)\n",
        "        if embedding_vector is not None:\n",
        "            num_words_in_embedding += 1\n",
        "            # words not found in embedding index will be all-zeros.\n",
        "            embedding_matrix[i] = embedding_vector\n",
        "\n",
        "    # Create model layers.\n",
        "    def get_convolutional_neural_net_layers():\n",
        "        \"\"\"Returns (input_layer, output_layer)\"\"\"\n",
        "        sequence_input = Input(shape=(MAX_SEQUENCE_LENGTH,), dtype='int32')\n",
        "        embedding_layer = Embedding(len(tokenizer.word_index) + 1,\n",
        "                                    EMBEDDINGS_DIMENSION,\n",
        "                                    weights=[embedding_matrix],\n",
        "                                    input_length=MAX_SEQUENCE_LENGTH,\n",
        "                                    trainable=False)\n",
        "        x = embedding_layer(sequence_input)\n",
        "        x = Conv1D(128, 2, activation='relu', padding='same')(x)\n",
        "        x = MaxPooling1D(5, padding='same')(x)\n",
        "        x = Conv1D(128, 3, activation='relu', padding='same')(x)\n",
        "        x = MaxPooling1D(5, padding='same')(x)\n",
        "        x = Conv1D(128, 4, activation='relu', padding='same')(x)\n",
        "        x = MaxPooling1D(40, padding='same')(x)\n",
        "        x = Flatten()(x)\n",
        "        x = Dropout(DROPOUT_RATE)(x)\n",
        "        x = Dense(128, activation='relu')(x)\n",
        "        preds = Dense(2, activation='softmax')(x)\n",
        "        return sequence_input, preds\n",
        "\n",
        "    # Compile model.\n",
        "    input_layer, output_layer = get_convolutional_neural_net_layers()\n",
        "    model = Model(input_layer, output_layer)\n",
        "    model.compile(loss='categorical_crossentropy',\n",
        "                  optimizer=RMSprop(lr=LEARNING_RATE),\n",
        "                  metrics=['acc'])\n",
        "\n",
        "    # Train model.\n",
        "    model.fit(train_text,\n",
        "              train_labels,\n",
        "              batch_size=BATCH_SIZE,\n",
        "              epochs=NUM_EPOCHS,\n",
        "              validation_data=(validate_text, validate_labels),\n",
        "              verbose=2)\n",
        "\n",
        "    return model\n",
        "\n",
        "# Uncomment this code to run model training\n",
        "# model = train_model(train_df, validate_df, tokenizer)"
      ],
      "execution_count": 0,
      "outputs": []
    },
    {
      "metadata": {
        "id": "_8RfGq2lX2EY",
        "colab_type": "text"
      },
      "cell_type": "markdown",
      "source": [
        "## Score test set with our text classification model\n",
        "\n",
        "Using our new model, we can score the set of test comments for toxicity.\n"
      ]
    },
    {
      "metadata": {
        "id": "V0YjAtUBWa1p",
        "colab_type": "code",
        "colab": {}
      },
      "cell_type": "code",
      "source": [
        "# Use the model to score the test set.\n",
        "test_comments_padded = pad_text(test_df[TEXT_COLUMN], tokenizer)\n",
        "MODEL_NAME = 'fat_star_tutorial'\n",
        "test_df[MODEL_NAME] = model.predict(test_comments_padded)[:, 1]"
      ],
      "execution_count": 0,
      "outputs": []
    },
    {
      "metadata": {
        "id": "x2xJ-qE9I_Kb",
        "colab_type": "text"
      },
      "cell_type": "markdown",
      "source": [
        "Let's see how our model performed against the test set.  We can compare the models predictions against the actual labels, and calculate the overall ROC-AUC for the model."
      ]
    },
    {
      "metadata": {
        "id": "SXh3p5FKphKG",
        "colab_type": "code",
        "colab": {}
      },
      "cell_type": "code",
      "source": [
        "# Print some records to compare our model results with the correct labels\n",
        "pd.concat([\n",
        "    test_df.query('toxicity == False').sample(3, random_state=RANDOM_STATE),\n",
        "    test_df.query('toxicity == True').sample(3, random_state=RANDOM_STATE)])[[TOXICITY_COLUMN, MODEL_NAME, TEXT_COLUMN]]"
      ],
      "execution_count": 0,
      "outputs": []
    },
    {
      "metadata": {
        "id": "P31u4dyyaKKE",
        "colab_type": "text"
      },
      "cell_type": "markdown",
      "source": [
        "# Evaluate the overall ROC-AUC\n",
        "\n",
        "This calculates the models performance on the entire test set using the ROC-AUC metric."
      ]
    },
    {
      "metadata": {
        "id": "wMj48wLHX93N",
        "colab_type": "code",
        "colab": {}
      },
      "cell_type": "code",
      "source": [
        "def calculate_overall_auc(df, model_name):\n",
        "    true_labels = df[TOXICITY_COLUMN]\n",
        "    predicted_labels = df[model_name]\n",
        "    return metrics.roc_auc_score(true_labels, predicted_labels)\n",
        "\n",
        "calculate_overall_auc(test_df, MODEL_NAME)"
      ],
      "execution_count": 0,
      "outputs": []
    },
    {
      "metadata": {
        "id": "Nukre_ZpX5tW",
        "colab_type": "text"
      },
      "cell_type": "markdown",
      "source": [
        "# Compute Bias Metrics\n",
        "\n",
        "Using metrics based on ROC-AUC, we can measure our model for biases against different identity groups.  We only calculate bias metrics on identities that are refered to in 100 or more comments, to minimize noise.\n",
        "\n",
        "The 3 bias metrics compare different subsets of the data as illustrated in the following image:\n",
        "![alt text](https://storage.googleapis.com/civil_comments/fat_star_tutorial/bias%20metrics.png)"
      ]
    },
    {
      "metadata": {
        "id": "o6IClt8eplMn",
        "colab_type": "code",
        "colab": {}
      },
      "cell_type": "code",
      "source": [
        "# Get a list of identity columns that have >= 100 True records.  This will remove groups such\n",
        "# as \"other_disability\" which do not have enough records to calculate meaningful metrics.\n",
        "identities_with_over_100_records = []\n",
        "for identity in identity_columns:\n",
        "    num_records = len(test_df.query(identity + '==True'))\n",
        "    if num_records >= 100:\n",
        "        identities_with_over_100_records.append(identity)\n",
        "\n",
        "SUBGROUP_AUC = 'subgroup_auc'\n",
        "BACKGROUND_POSITIVE_SUBGROUP_NEGATIVE_AUC = 'background_positive_subgroup_negative_auc'\n",
        "BACKGROUND_NEGATIVE_SUBGROUP_POSITIVE_AUC = 'background_negative_subgroup_positive_auc'\n",
        "\n",
        "def compute_auc(y_true, y_pred):\n",
        "  try:\n",
        "    return metrics.roc_auc_score(y_true, y_pred)\n",
        "  except ValueError:\n",
        "    return np.nan\n",
        "\n",
        "\n",
        "def compute_subgroup_auc(df, subgroup, label, model_name):\n",
        "  subgroup_examples = df[df[subgroup]]\n",
        "  return compute_auc(subgroup_examples[label], subgroup_examples[model_name])\n",
        "\n",
        "\n",
        "def compute_background_positive_subgroup_negative_auc(df, subgroup, label, model_name):\n",
        "  \"\"\"Computes the AUC of the within-subgroup negative examples and the background positive examples.\"\"\"\n",
        "  subgroup_negative_examples = df[df[subgroup] & ~df[label]]\n",
        "  non_subgroup_positive_examples = df[~df[subgroup] & df[label]]\n",
        "  examples = subgroup_negative_examples.append(non_subgroup_positive_examples)\n",
        "  return compute_auc(examples[label], examples[model_name])\n",
        "\n",
        "\n",
        "def compute_background_negative_subgroup_positive_auc(df, subgroup, label, model_name):\n",
        "  \"\"\"Computes the AUC of the within-subgroup positive examples and the background negative examples.\"\"\"\n",
        "  subgroup_positive_examples = df[df[subgroup] & df[label]]\n",
        "  non_subgroup_negative_examples = df[~df[subgroup] & ~df[label]]\n",
        "  examples = subgroup_positive_examples.append(non_subgroup_negative_examples)\n",
        "  return compute_auc(examples[label], examples[model_name])\n",
        "\n",
        "\n",
        "def compute_bias_metrics_for_model(dataset,\n",
        "                                   subgroups,\n",
        "                                   model,\n",
        "                                   label_col,\n",
        "                                   include_asegs=False):\n",
        "  \"\"\"Computes per-subgroup metrics for all subgroups and one model.\"\"\"\n",
        "  records = []\n",
        "  for subgroup in subgroups:\n",
        "    record = {\n",
        "        'subgroup': subgroup,\n",
        "        'subgroup_size': len(dataset[dataset[subgroup]])\n",
        "    }\n",
        "    record[SUBGROUP_AUC] = compute_subgroup_auc(\n",
        "        dataset, subgroup, label_col, model)\n",
        "    record[BACKGROUND_POSITIVE_SUBGROUP_NEGATIVE_AUC] = compute_background_positive_subgroup_negative_auc(\n",
        "        dataset, subgroup, label_col, model)\n",
        "    record[BACKGROUND_NEGATIVE_SUBGROUP_POSITIVE_AUC] = compute_background_negative_subgroup_positive_auc(\n",
        "        dataset, subgroup, label_col, model)\n",
        "    records.append(record)\n",
        "  return pd.DataFrame(records).sort_values('subgroup_auc', ascending=True)\n",
        "\n",
        "bias_metrics_df = compute_bias_metrics_for_model(test_df, identities_with_over_100_records, MODEL_NAME, TOXICITY_COLUMN)"
      ],
      "execution_count": 0,
      "outputs": []
    },
    {
      "metadata": {
        "id": "GS9t687KogDQ",
        "colab_type": "text"
      },
      "cell_type": "markdown",
      "source": [
        "# Plot a heatmap of bias metrics"
      ]
    },
    {
      "metadata": {
        "id": "B5OxkxMqNvaB",
        "colab_type": "text"
      },
      "cell_type": "markdown",
      "source": [
        "Plot a heatmap of the bias metrics.  Higher scores indicate better results.\n",
        "* Subgroup AUC measures the ability to separate toxic and non-toxic comments for this identity.\n",
        "* Negative cross AUC measures the ability to separate non-toxic comments for this identity from toxic comments from the background distribution.\n",
        "* Positive cross AUC measures the ability to separate toxic comments for this identity from non-toxic comments from the background distribution."
      ]
    },
    {
      "metadata": {
        "id": "AGb1CQn2PZVX",
        "colab_type": "code",
        "colab": {}
      },
      "cell_type": "code",
      "source": [
        "def plot_auc_heatmap(bias_metrics_results, models):\n",
        "  metrics_list = [SUBGROUP_AUC, BACKGROUND_POSITIVE_SUBGROUP_NEGATIVE_AUC, BACKGROUND_NEGATIVE_SUBGROUP_POSITIVE_AUC]\n",
        "  df = bias_metrics_results.set_index('subgroup')\n",
        "  columns = []\n",
        "  vlines = [i * len(models) for i in range(len(metrics_list))]\n",
        "  for metric in metrics_list:\n",
        "    for model in models:\n",
        "      columns.append(metric)\n",
        "  num_rows = len(df)\n",
        "  num_columns = len(columns)\n",
        "  fig = plt.figure(figsize=(num_columns, 0.5 * num_rows))\n",
        "  ax = sns.heatmap(df[columns], annot=True, fmt='.2', cbar=True, cmap='Reds_r',\n",
        "                   vmin=0.5, vmax=1.0)\n",
        "  ax.xaxis.tick_top()\n",
        "  plt.xticks(rotation=90)\n",
        "  ax.vlines(vlines, *ax.get_ylim())\n",
        "  return ax\n",
        "\n",
        "plot_auc_heatmap(bias_metrics_df, [MODEL_NAME])"
      ],
      "execution_count": 0,
      "outputs": []
    },
    {
      "metadata": {
        "id": "MoMN4vfCXoJ4",
        "colab_type": "text"
      },
      "cell_type": "markdown",
      "source": [
        "# Exercise #2\n",
        "Examine the bias heatmap above - what biases can you spot?  Do the biases appear to be false positives (non-toxic comments incorrectly classified as toxic) or false negatives (toxic comments incorrectly classified as non-toxic)?"
      ]
    },
    {
      "metadata": {
        "id": "8bArd_iUqujQ",
        "colab_type": "text"
      },
      "cell_type": "markdown",
      "source": [
        "## Solution (click to expand)"
      ]
    },
    {
      "metadata": {
        "id": "3pBX9TjPqopb",
        "colab_type": "text"
      },
      "cell_type": "markdown",
      "source": [
        "Some groups have lower subgroup AUC scores, for example the groups \"heterosexual\", \"transgender\", and \"homosexual_gay_or_lesbian\".  Because the \"Negative Cross AUC\" is lower than the \"Positive Cross AUC\" for this group, it appears that this groups has more false positives, i.e. many non-toxic comments about homosexuals are scoring higher for toxicity than actually toxic comments about other topics."
      ]
    },
    {
      "metadata": {
        "id": "cyv6n0GxpCwb",
        "colab_type": "text"
      },
      "cell_type": "markdown",
      "source": [
        "# Plot histograms showing comment scores"
      ]
    },
    {
      "metadata": {
        "id": "AKm925FWX_Fd",
        "colab_type": "text"
      },
      "cell_type": "markdown",
      "source": [
        "We can graph a histogram of comment scores in each identity.  In the following graphs, the X axis represents the toxicity score given by our new model, and the Y axis represents the comment count.  Blue values are comment whose true label is non-toxic, while red values are those whose true label is toxic."
      ]
    },
    {
      "metadata": {
        "id": "iMSpM0U1YAN1",
        "colab_type": "code",
        "colab": {}
      },
      "cell_type": "code",
      "source": [
        "def plot_histogram(non_toxic_scores, toxic_scores, description):\n",
        "  NUM_BINS=10\n",
        "  sns.distplot(non_toxic_scores, norm_hist=True, bins=NUM_BINS, color=\"skyblue\", label='non-toxic ' + description, kde=False)\n",
        "  ax = sns.distplot(toxic_scores, norm_hist=True, bins=NUM_BINS, color=\"red\", label='toxic ' + description, kde=False)\n",
        "  ax.set(xlabel='model toxicity score', ylabel='relative % of comments', yticklabels=[])\n",
        "  plt.legend()\n",
        "  plt.figure()\n",
        "\n",
        "# Plot toxicity distributions of different identities to visualize bias.\n",
        "def plot_histogram_for_identity(df, identity):\n",
        "  toxic_scores = df.query(identity + ' == True & toxicity == True')[MODEL_NAME]\n",
        "  non_toxic_scores = df.query(identity + ' == True & toxicity == False')[MODEL_NAME]\n",
        "  plot_histogram(non_toxic_scores, toxic_scores, 'labeled for ' + identity)\n",
        "\n",
        "def plot_background_histogram(df):\n",
        "  toxic_scores = df.query('toxicity == True')[MODEL_NAME]\n",
        "  non_toxic_scores = df.query('toxicity == False')[MODEL_NAME]\n",
        "  plot_histogram(non_toxic_scores, toxic_scores, 'for all test data')\n",
        "\n",
        "# Plot the histogram for the background data, and for a few identities\n",
        "plot_background_histogram(test_df)\n",
        "plot_histogram_for_identity(test_df, 'heterosexual')\n",
        "plot_histogram_for_identity(test_df, 'transgender')\n",
        "plot_histogram_for_identity(test_df, 'homosexual_gay_or_lesbian')\n",
        "plot_histogram_for_identity(test_df, 'atheist')\n",
        "plot_histogram_for_identity(test_df, 'christian')\n",
        "plot_histogram_for_identity(test_df, 'asian')"
      ],
      "execution_count": 0,
      "outputs": []
    },
    {
      "metadata": {
        "id": "fWa4WeQ61-TW",
        "colab_type": "text"
      },
      "cell_type": "markdown",
      "source": [
        "# Exercise #3\n",
        "\n",
        "By comparing the toxicity histograms for comments that refer to different groups with each other, and with the background distribution, what additional information can we learn about bias in our model?"
      ]
    },
    {
      "metadata": {
        "id": "odq8KSh43i3i",
        "colab_type": "code",
        "colab": {}
      },
      "cell_type": "code",
      "source": [
        "# Your code here\n",
        "#\n",
        "# HINT: you can display the background distribution by running:\n",
        "#   plot_background_histogram(test_df)\n",
        "#\n",
        "# You can plot the distribution for a given identity by running\n",
        "#   plot_histogram_for_identity(test_df, identity_name)\n",
        "#   e.g. plot_histogram_for_identity(test_df, 'male')"
      ],
      "execution_count": 0,
      "outputs": []
    },
    {
      "metadata": {
        "id": "XWDNrP0tX09f",
        "colab_type": "text"
      },
      "cell_type": "markdown",
      "source": [
        "## Solution (click to expand)"
      ]
    },
    {
      "metadata": {
        "id": "-ghDtgLdX5XR",
        "colab_type": "text"
      },
      "cell_type": "markdown",
      "source": [
        "This is one possible interpretation of the data.  We encourage you to explore other identity categories and come up with your own conclusions.\n",
        "\n",
        "We can see that for some identities such as Asian, the model scores most non-toxic comments as less than 0.2 and most toxic comments as greater than 0.2.  This indicates that for the Asian identity, our model is able to distinguish between toxic and non-toxic comments.  However, for the black identity, there are many non-toxic comments with scores over 0.5, along with many toxic comments with scores of less than 0.5.  This shows that for the black identity, our model will be less accurate at separating toxic comments from non-toxic comments.  We can see that the model also has difficulty separating toxic from non-toxic data for comments labeled as applying to the \"white\" identity."
      ]
    },
    {
      "metadata": {
        "id": "zt9oMk6LOxC8",
        "colab_type": "code",
        "colab": {}
      },
      "cell_type": "code",
      "source": [
        "plot_histogram_for_identity(test_df, 'asian')\n",
        "plot_histogram_for_identity(test_df, 'black')\n",
        "plot_histogram_for_identity(test_df, 'white')"
      ],
      "execution_count": 0,
      "outputs": []
    },
    {
      "metadata": {
        "id": "6DndQDHZY0Gg",
        "colab_type": "text"
      },
      "cell_type": "markdown",
      "source": [
        "# Additional topics to explore\n",
        "* How does toxicity and bias change if we restrict the dataset to long or short comments?\n",
        "* What patterns exist for comments containing multiple identities?  Do some identities often appear together?  Are these comments more likely to be toxic?  Is our model more or less biased against these comments?\n",
        "* What biases exist when classifying the other \"toxicity subtypes\" (obscene, sexual_explicit, identity_attack, insult, and threat)?\n",
        "* Are there other ways we might be able to mitigate bias?\n"
      ]
    }
  ]
}