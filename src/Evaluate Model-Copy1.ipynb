{
 "cells": [
  {
   "cell_type": "code",
   "execution_count": 1,
   "metadata": {},
   "outputs": [
    {
     "name": "stderr",
     "output_type": "stream",
     "text": [
      "Using TensorFlow backend.\n"
     ]
    },
    {
     "name": "stdout",
     "output_type": "stream",
     "text": [
      "HELLO from model_tool\n"
     ]
    }
   ],
   "source": [
    "from __future__ import absolute_import\n",
    "from __future__ import division\n",
    "from __future__ import print_function\n",
    "\n",
    "import pandas as pd\n",
    "\n",
    "from model_tool import ToxModel, AttentionToxModel"
   ]
  },
  {
   "cell_type": "code",
   "execution_count": 2,
   "metadata": {
    "collapsed": true
   },
   "outputs": [],
   "source": [
    "MODEL_NAME = 'wiki_tox_labels_v1'\n",
    "TEST_DATA = '../data/wiki_toxicity_test.csv'"
   ]
  },
  {
   "cell_type": "code",
   "execution_count": 3,
   "metadata": {
    "collapsed": true
   },
   "outputs": [],
   "source": [
    "# Load a pretrained model\n",
    "#m = ToxModel(MODEL_NAME)"
   ]
  },
  {
   "cell_type": "code",
   "execution_count": 4,
   "metadata": {
    "collapsed": true
   },
   "outputs": [],
   "source": [
    "# Prints out the AUC score\n",
    "test_data = pd.read_csv(TEST_DATA)\n",
    "m.score_auc(test_data['comment'], test_data['is_toxic'])"
   ]
  },
  {
   "cell_type": "code",
   "execution_count": 5,
   "metadata": {},
   "outputs": [
    {
     "name": "stdout",
     "output_type": "stream",
     "text": [
      "Hyperparameters\n",
      "---------------\n",
      "max_num_words: 10000\n",
      "dropout_rate: 0.3\n",
      "verbose: True\n",
      "cnn_pooling_sizes: [5, 5, 40]\n",
      "es_min_delta: 0\n",
      "learning_rate: 5e-05\n",
      "embedding_dim: 100\n",
      "cnn_kernel_sizes: [5, 5, 5]\n",
      "es_patience: 1\n",
      "epochs: 20\n",
      "cnn_filter_sizes: [128, 128, 128]\n",
      "batch_size: 128\n",
      "model_name: cnn_attention_wiki_tox_v1\n",
      "max_sequence_length: 250\n",
      "stop_early: True\n",
      "embedding_trainable: False\n",
      "\n"
     ]
    }
   ],
   "source": [
    "MODEL_NAME=\"cnn_attention_wiki_tox_v1\"\n",
    "m = AttentionToxModel(MODEL_NAME)\n",
    "test_data = pd.read_csv(TEST_DATA)"
   ]
  },
  {
   "cell_type": "code",
   "execution_count": 6,
   "metadata": {},
   "outputs": [
    {
     "data": {
      "text/plain": [
       "0.96100251938630521"
      ]
     },
     "execution_count": 6,
     "metadata": {},
     "output_type": "execute_result"
    }
   ],
   "source": [
    "# Prints out the AUC score\n",
    "test_data = pd.read_csv(TEST_DATA)\n",
    "m.score_auc(test_data['comment'], test_data['is_toxic'])"
   ]
  },
  {
   "cell_type": "code",
   "execution_count": 7,
   "metadata": {},
   "outputs": [
    {
     "name": "stdout",
     "output_type": "stream",
     "text": [
      "Hyperparameters\n",
      "---------------\n",
      "max_num_words: 10000\n",
      "dropout_rate: 0.3\n",
      "verbose: True\n",
      "cnn_pooling_sizes: [5, 5, 40]\n",
      "es_min_delta: 0\n",
      "learning_rate: 5e-05\n",
      "embedding_dim: 100\n",
      "cnn_kernel_sizes: [5, 5, 5]\n",
      "es_patience: 1\n",
      "epochs: 20\n",
      "cnn_filter_sizes: [128, 128, 128]\n",
      "batch_size: 128\n",
      "model_name: cnn_attention_random_tox_v1\n",
      "max_sequence_length: 250\n",
      "stop_early: True\n",
      "embedding_trainable: False\n",
      "\n"
     ]
    },
    {
     "data": {
      "text/plain": [
       "0.9632155892287354"
      ]
     },
     "execution_count": 7,
     "metadata": {},
     "output_type": "execute_result"
    }
   ],
   "source": [
    "MODEL_NAME=\"cnn_attention_random_tox_v1\"\n",
    "m = AttentionToxModel(MODEL_NAME)\n",
    "m.score_auc(test_data['comment'], test_data['is_toxic'])"
   ]
  },
  {
   "cell_type": "code",
   "execution_count": 9,
   "metadata": {},
   "outputs": [
    {
     "name": "stdout",
     "output_type": "stream",
     "text": [
      "Hyperparameters\n",
      "---------------\n",
      "max_num_words: 10000\n",
      "dropout_rate: 0.3\n",
      "verbose: True\n",
      "cnn_pooling_sizes: [5, 5, 40]\n",
      "es_min_delta: 0\n",
      "learning_rate: 5e-05\n",
      "embedding_dim: 100\n",
      "cnn_kernel_sizes: [5, 5, 5]\n",
      "es_patience: 1\n",
      "epochs: 20\n",
      "cnn_filter_sizes: [128, 128, 128]\n",
      "batch_size: 128\n",
      "model_name: cnn_attention_debias_tox_v1\n",
      "max_sequence_length: 250\n",
      "stop_early: True\n",
      "embedding_trainable: False\n",
      "\n"
     ]
    },
    {
     "data": {
      "text/plain": [
       "0.96310037616836519"
      ]
     },
     "execution_count": 9,
     "metadata": {},
     "output_type": "execute_result"
    }
   ],
   "source": [
    "MODEL_NAME=\"cnn_attention_debias_tox_v1\"\n",
    "m = AttentionToxModel(MODEL_NAME)\n",
    "m.score_auc(test_data['comment'], test_data['is_toxic'])"
   ]
  },
  {
   "cell_type": "code",
   "execution_count": null,
   "metadata": {
    "collapsed": true
   },
   "outputs": [],
   "source": []
  }
 ],
 "metadata": {
  "kernelspec": {
   "display_name": "Python 2",
   "language": "python",
   "name": "python2"
  },
  "language_info": {
   "codemirror_mode": {
    "name": "ipython",
    "version": 2
   },
   "file_extension": ".py",
   "mimetype": "text/x-python",
   "name": "python",
   "nbconvert_exporter": "python",
   "pygments_lexer": "ipython2",
   "version": "2.7.12"
  }
 },
 "nbformat": 4,
 "nbformat_minor": 2
}
